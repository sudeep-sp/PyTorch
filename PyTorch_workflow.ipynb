{
  "nbformat": 4,
  "nbformat_minor": 0,
  "metadata": {
    "colab": {
      "provenance": [],
      "toc_visible": true,
      "authorship_tag": "ABX9TyPoGHln04UDOdpGpaVUj1nT",
      "include_colab_link": true
    },
    "kernelspec": {
      "name": "python3",
      "display_name": "Python 3"
    },
    "language_info": {
      "name": "python"
    }
  },
  "cells": [
    {
      "cell_type": "markdown",
      "metadata": {
        "id": "view-in-github",
        "colab_type": "text"
      },
      "source": [
        "<a href=\"https://colab.research.google.com/github/sudeep-sp/PyTorch/blob/main/PyTorch_workflow.ipynb\" target=\"_parent\"><img src=\"https://colab.research.google.com/assets/colab-badge.svg\" alt=\"Open In Colab\"/></a>"
      ]
    },
    {
      "cell_type": "code",
      "execution_count": 1,
      "metadata": {
        "colab": {
          "base_uri": "https://localhost:8080/"
        },
        "id": "DSvVqorh7sQb",
        "outputId": "8f3bfda5-2ec5-4eb9-9f20-893200edc135"
      },
      "outputs": [
        {
          "output_type": "execute_result",
          "data": {
            "text/plain": [
              "{1: 'data (prepare and load)',\n",
              " 2: 'build model',\n",
              " 3: 'fitting the model to data (training)',\n",
              " 4: 'making predictions and evaluating a model (inference)',\n",
              " 5: 'saving and loading a model',\n",
              " 6: 'putting it all together'}"
            ]
          },
          "metadata": {},
          "execution_count": 1
        }
      ],
      "source": [
        "how_we_do_it = {\n",
        "     1: \"data (prepare and load)\",\n",
        "     2: \"build model\",\n",
        "     3: \"fitting the model to data (training)\",\n",
        "     4: \"making predictions and evaluating a model (inference)\",\n",
        "     5: \"saving and loading a model\",\n",
        "     6: \"putting it all together\"\n",
        "}\n",
        "how_we_do_it"
      ]
    },
    {
      "cell_type": "code",
      "source": [
        "import torch\n",
        "from torch import nn\n",
        "import matplotlib.pyplot as plt"
      ],
      "metadata": {
        "id": "nQwbld3k9d9-"
      },
      "execution_count": 2,
      "outputs": []
    },
    {
      "cell_type": "markdown",
      "source": [
        "## 1. Data (preparing and loading)\n",
        "\n",
        "data can be almost anything... in machine learning.\n",
        "\n",
        "* excel speadsheet\n",
        "* images of any kind\n",
        "* videos\n",
        "* Audio\n",
        "* DNA\n",
        "* text\n",
        "\n",
        "Machine learning is a game of 2 parts:\n",
        "1. Get data into a numberical representation.\n",
        "2. Build a model to learn pattens in that numerical represntation.\n",
        "\n",
        "To showcase this, lets create some known data using the linear regression formula.\n",
        "We'll use a linear regression formula to make a straight line with known parameters"
      ],
      "metadata": {
        "id": "Et9alGuL-Xoa"
      }
    },
    {
      "cell_type": "code",
      "source": [
        "import torch\n",
        "from torch import nn\n",
        "import matplotlib.pyplot as plt\n",
        "#create known parameters\n",
        "\n",
        "weight = 0.7\n",
        "bias =0.3\n",
        "\n",
        "#create\n",
        "start = 0\n",
        "end = 1\n",
        "step = 0.02\n",
        "X = torch.arange(start,end, step).unsqueeze(dim=1)\n",
        "y = weight * X + bias\n",
        "\n",
        "X[:10], y[:10]"
      ],
      "metadata": {
        "colab": {
          "base_uri": "https://localhost:8080/"
        },
        "id": "O64Yo_2d-006",
        "outputId": "b279b39a-e403-43e6-f7d6-ae2b5910b5ea"
      },
      "execution_count": 3,
      "outputs": [
        {
          "output_type": "execute_result",
          "data": {
            "text/plain": [
              "(tensor([[0.0000],\n",
              "         [0.0200],\n",
              "         [0.0400],\n",
              "         [0.0600],\n",
              "         [0.0800],\n",
              "         [0.1000],\n",
              "         [0.1200],\n",
              "         [0.1400],\n",
              "         [0.1600],\n",
              "         [0.1800]]),\n",
              " tensor([[0.3000],\n",
              "         [0.3140],\n",
              "         [0.3280],\n",
              "         [0.3420],\n",
              "         [0.3560],\n",
              "         [0.3700],\n",
              "         [0.3840],\n",
              "         [0.3980],\n",
              "         [0.4120],\n",
              "         [0.4260]]))"
            ]
          },
          "metadata": {},
          "execution_count": 3
        }
      ]
    },
    {
      "cell_type": "code",
      "source": [
        "len(X), len(y)"
      ],
      "metadata": {
        "colab": {
          "base_uri": "https://localhost:8080/"
        },
        "id": "naULbCmpB1tj",
        "outputId": "edf8c9ca-b340-49a6-cd03-dd180cd31013"
      },
      "execution_count": 4,
      "outputs": [
        {
          "output_type": "execute_result",
          "data": {
            "text/plain": [
              "(50, 50)"
            ]
          },
          "metadata": {},
          "execution_count": 4
        }
      ]
    },
    {
      "cell_type": "markdown",
      "source": [
        "### splitting data into training and testing sets (one of the most important concepts in ML in general )\n",
        "\n",
        "Lets create a training and test set with our data."
      ],
      "metadata": {
        "id": "SQAysymmCM12"
      }
    },
    {
      "cell_type": "code",
      "source": [
        "#create a train/test split\n",
        "train_split = int(0.8 * len(X)) #80% of data used for training set, 20% for testing\n",
        "X_train, y_train = X[:train_split], y[:train_split]\n",
        "\n",
        "X_test, y_test = X[train_split:], y[train_split:]\n",
        "\n",
        "len(X_train), len(y_train), len(X_test), len(y_test)"
      ],
      "metadata": {
        "colab": {
          "base_uri": "https://localhost:8080/"
        },
        "id": "Gmw2XEK7DGPv",
        "outputId": "a1acce28-ef66-4e6f-e0f6-0a66529750c1"
      },
      "execution_count": 5,
      "outputs": [
        {
          "output_type": "execute_result",
          "data": {
            "text/plain": [
              "(40, 40, 10, 10)"
            ]
          },
          "metadata": {},
          "execution_count": 5
        }
      ]
    },
    {
      "cell_type": "markdown",
      "source": [
        "### Visualization"
      ],
      "metadata": {
        "id": "9UJrqB8NExep"
      }
    },
    {
      "cell_type": "code",
      "source": [
        "def plot_predictions(train_data=X_train,\n",
        "                    train_labels=y_train,\n",
        "                    test_data=X_test,\n",
        "                    test_labels=y_test,\n",
        "                    predictions=None):\n",
        "  \"\"\"\n",
        "  Plots training data, test data and compares predictions.\n",
        "  \"\"\"\n",
        "  plt.figure(figsize=(10,7))\n",
        "\n",
        "  #plot training data in blue\n",
        "  plt.scatter(train_data, train_labels, c=\"b\", s=4, label=\"training data\")\n",
        "\n",
        "  #plot test data in green\n",
        "  plt.scatter(test_data, test_labels, c=\"g\", s=4, label=\"testing data\")\n",
        "\n",
        "  #Are there predictions?\n",
        "  if predictions is not None:\n",
        "    #plot predictions in red (predictions in green color)\n",
        "    plt.scatter(test_data, predictions, c=\"r\", s=4, label=\"predictions\")\n",
        "\n",
        "  #show the legend\n",
        "  plt.legend(prop={\"size\":14})"
      ],
      "metadata": {
        "id": "teSyyTRgD8zp"
      },
      "execution_count": 6,
      "outputs": []
    },
    {
      "cell_type": "code",
      "source": [
        "plot_predictions()"
      ],
      "metadata": {
        "colab": {
          "base_uri": "https://localhost:8080/",
          "height": 600
        },
        "id": "u67BG2dLFqtg",
        "outputId": "d4938cd3-8144-4e21-dd57-2427d4ff58c6"
      },
      "execution_count": 7,
      "outputs": [
        {
          "output_type": "display_data",
          "data": {
            "text/plain": [
              "<Figure size 1000x700 with 1 Axes>"
            ],
            "image/png": "[encoded data removed]"
          },
          "metadata": {}
        }
      ]
    },
    {
      "cell_type": "markdown",
      "source": [
        "# Building models\n",
        "\n",
        "what our model does:\n",
        "* Start with random values (weight and bias)\n",
        "* Look at training data and adjust the random values to better represent (or get closer to) the ideal values (the weight and bias values we used to create the data)\n",
        "\n",
        "1. Gradient descent\n",
        "2. Backpropagation\n"
      ],
      "metadata": {
        "id": "5-3OrQBgGP-Z"
      }
    },
    {
      "cell_type": "code",
      "source": [
        "from torch import nn\n",
        "\n",
        "#create linear regression model class\n",
        "\n",
        "class LinearRegressionModel(nn.Module): # <- almost everything in Pytorch inherhits from nn.module\n",
        "  def __init__(self):\n",
        "    super().__init__()\n",
        "    self.weights = nn.Parameter(torch.randn(1, # <- start with a random weight and try to adjust it to the ideal weight\n",
        "                                            requires_grad = True,\n",
        "                                            dtype = torch.float\n",
        "                                            ))\n",
        "    self.bias = nn.Parameter(torch.randn(1,\n",
        "                                          requires_grad = True,\n",
        "                                          dtype = torch.float\n",
        "                                          ))\n",
        "  # forward method to define the computation in the model\n",
        "  def forward(self, x: torch.Tensor) -> torch.tensor: # <- 'x' is the input data\n",
        "     return self.weights * x + self.bias # this is the linear regression formula\n"
      ],
      "metadata": {
        "id": "ZYlumk0-GVsZ"
      },
      "execution_count": 8,
      "outputs": []
    },
    {
      "cell_type": "markdown",
      "source": [
        "### PyTorch model building essentials\n",
        "\n",
        "* torch.nn - contains all of the buildings for computational graghs (a neural network can be considered a computational graph).\n",
        "* torch.nn.parameter - what parameters should our model try and learn, often a pytorch layer from torch.nn will set these for us.\n",
        "* torch.nn.Model - The Base class for all NN modules, if you should overwrite forward().\n",
        "* torch.optim - this where the optimizers in Pytorch live, they will help with gradent descent.\n",
        "* def forward() - All nn.model subclasses require you to overwrite forward(), this method defines what happens in the forward computations.\n",
        "\n",
        "* torch.utils.data.Dataset - Represents a map between key(label) and sample (features) pairs of your data. Such as images and thier associated labels.\n",
        "\n",
        "* torch.utils.data.DataLoader - Creates a Python iterable over a torch Dataset(allows you to iterate ober your data)."
      ],
      "metadata": {
        "id": "ydIBswQ0w8ts"
      }
    },
    {
      "cell_type": "markdown",
      "source": [
        "### checking the contents of our Pytorch model\n",
        "\n",
        "now we created a model , we see whats inside it...\n",
        "\n",
        "so we can check our model parameter or whats inside our model using `.Parameters()`"
      ],
      "metadata": {
        "id": "ByNK7lgrz3PU"
      }
    },
    {
      "cell_type": "code",
      "source": [
        "#create a random seed\n",
        "\n",
        "torch.manual_seed(42)\n",
        "\n",
        "#create an instance of model(this is a subclass of nn.Module)\n",
        "model_0 = LinearRegressionModel()\n",
        "\n",
        "list(model_0.parameters())"
      ],
      "metadata": {
        "colab": {
          "base_uri": "https://localhost:8080/"
        },
        "id": "kYApJMc8yjLA",
        "outputId": "2e80fe2c-4fcd-4c23-a5ca-7f1c366c447a"
      },
      "execution_count": 9,
      "outputs": [
        {
          "output_type": "execute_result",
          "data": {
            "text/plain": [
              "[Parameter containing:\n",
              " tensor([0.3367], requires_grad=True),\n",
              " Parameter containing:\n",
              " tensor([0.1288], requires_grad=True)]"
            ]
          },
          "metadata": {},
          "execution_count": 9
        }
      ]
    },
    {
      "cell_type": "code",
      "source": [
        "#List named parameters\n",
        "model_0.state_dict()"
      ],
      "metadata": {
        "colab": {
          "base_uri": "https://localhost:8080/"
        },
        "id": "LXZMZtqo1mTv",
        "outputId": "e000f62b-fc5b-4f11-ec90-33a569cd78b8"
      },
      "execution_count": 10,
      "outputs": [
        {
          "output_type": "execute_result",
          "data": {
            "text/plain": [
              "OrderedDict([('weights', tensor([0.3367])), ('bias', tensor([0.1288]))])"
            ]
          },
          "metadata": {},
          "execution_count": 10
        }
      ]
    },
    {
      "cell_type": "code",
      "source": [
        "weight, bias"
      ],
      "metadata": {
        "colab": {
          "base_uri": "https://localhost:8080/"
        },
        "id": "wfKX4ntf10Bk",
        "outputId": "dae13c28-1fbd-4a84-a752-4476a9bfd73f"
      },
      "execution_count": 11,
      "outputs": [
        {
          "output_type": "execute_result",
          "data": {
            "text/plain": [
              "(0.7, 0.3)"
            ]
          },
          "metadata": {},
          "execution_count": 11
        }
      ]
    },
    {
      "cell_type": "markdown",
      "source": [
        "### Making prediction using `torch.inference_mode()`\n",
        " To check our models predictive power, how will it predicts `y_test` based on `X_test`.\n",
        "\n",
        " when we pass data through our model, its going to run it through the forward() metod"
      ],
      "metadata": {
        "id": "2mHBVLxL2zVf"
      }
    },
    {
      "cell_type": "code",
      "source": [
        "# make predictions with model\n",
        "with torch.inference_mode():\n",
        "  y_preds = model_0(X_test)\n",
        "\n",
        "# you can also do something similar with torch.no_grad().\n",
        "# with torch.no_grad():\n",
        "#   y_preds = model_0(X_test)\n",
        "\n",
        "y_preds"
      ],
      "metadata": {
        "colab": {
          "base_uri": "https://localhost:8080/"
        },
        "id": "9JYzL3i22Hfr",
        "outputId": "19f3df87-8bd0-4245-b140-3fa9ea1739e5"
      },
      "execution_count": 12,
      "outputs": [
        {
          "output_type": "execute_result",
          "data": {
            "text/plain": [
              "tensor([[0.3982],\n",
              "        [0.4049],\n",
              "        [0.4116],\n",
              "        [0.4184],\n",
              "        [0.4251],\n",
              "        [0.4318],\n",
              "        [0.4386],\n",
              "        [0.4453],\n",
              "        [0.4520],\n",
              "        [0.4588]])"
            ]
          },
          "metadata": {},
          "execution_count": 12
        }
      ]
    },
    {
      "cell_type": "code",
      "source": [
        "plot_predictions(predictions=y_preds)"
      ],
      "metadata": {
        "colab": {
          "base_uri": "https://localhost:8080/",
          "height": 600
        },
        "id": "P3hBnkY04OFQ",
        "outputId": "9c3f0302-47e2-4aeb-d721-82a24db108db"
      },
      "execution_count": 13,
      "outputs": [
        {
          "output_type": "display_data",
          "data": {
            "text/plain": [
              "<Figure size 1000x700 with 1 Axes>"
            ],
            "image/png": "[encoded data removed]"
          },
          "metadata": {}
        }
      ]
    },
    {
      "cell_type": "markdown",
      "source": [
        "## 3.Training model\n",
        "\n",
        "The Whole idea of training is for a model to move from some unknown parameters (these may be random) to some known parameters\n",
        "\n",
        "Or in other words from a poor representation of the data to a better representation of the data.\n",
        "\n",
        "One way to measure how poor or how wrong your models prediction are is to use a `loss function`.\n",
        "\n",
        "Things we need to train:\n",
        "\n",
        "* **Loss function**: https://pytorch.org/docs/stable/nn.html#loss-functions\n",
        "* **Opitimizer** https://pytorch.org/docs/stable/optim.html\n",
        "\n",
        "inside optimizer:\n",
        "* `params` - the model parameters you'd like to optimze.\n",
        "* `lr` - the learning rate is hyperparameter that defines how big/small the optimizer changes the parameters with each step\n",
        "\n",
        "And specifically for PyTorch, we need:\n",
        "* A training loop\n",
        "* A testing loop"
      ],
      "metadata": {
        "id": "iX2_olWEwZU_"
      }
    },
    {
      "cell_type": "code",
      "source": [
        "model_0.state_dict()"
      ],
      "metadata": {
        "id": "IvBZixW65nDu",
        "colab": {
          "base_uri": "https://localhost:8080/"
        },
        "outputId": "e8b4efcb-4a9f-4075-afab-b07a4efedddf"
      },
      "execution_count": 14,
      "outputs": [
        {
          "output_type": "execute_result",
          "data": {
            "text/plain": [
              "OrderedDict([('weights', tensor([0.3367])), ('bias', tensor([0.1288]))])"
            ]
          },
          "metadata": {},
          "execution_count": 14
        }
      ]
    },
    {
      "cell_type": "code",
      "source": [
        "#setup a loss function\n",
        "loss_fn = nn.L1Loss()\n",
        "\n",
        "#setup an optimizer (stochastic Gradient descent)\n",
        "optimizer = torch.optim.SGD(params = model_0.parameters(),lr = 0.01) #lr is learning rate : its hyperparameter"
      ],
      "metadata": {
        "id": "Elg7MtkVy__C"
      },
      "execution_count": 18,
      "outputs": []
    },
    {
      "cell_type": "markdown",
      "source": [
        "# Building a training loop (and a testing loop) in PyTorch.\n",
        "\n",
        "A couple of things we need in a training loop:\n",
        "  0. loop through the data and do ...\n",
        "  1. forward pass\n",
        "  2. calculate the loss\n",
        "  3. optimizer zero grad\n",
        "  4. Loss backword\n",
        "  5. optimizer step"
      ],
      "metadata": {
        "id": "Gm82DZP91Zns"
      }
    },
    {
      "cell_type": "code",
      "source": [
        "#An epoch is one loop through the data... (this is a hyperparameter)\n",
        "epochs = 100\n",
        "\n",
        "#0. Loop through the data\n",
        "for epoch in range(epochs):\n",
        "  #Set the model to training mode\n",
        "  model_0.train() # train mode in pytorch sets all parameters that require gradients to require gardients\n",
        "\n",
        "  # 1. Forward pass\n",
        "  y_pred = model_0(X_train)\n",
        "\n",
        "  #2. calculate Loss\n",
        "  loss = loss_fn(y_pred, y_train)\n",
        "\n",
        "\n",
        "  #3. optimizer zero grad\n",
        "  optimizer.zero_grad()\n",
        "\n",
        "  # 4. perform backpropagation on the loss with respect to the parameter of the model\n",
        "  loss.backward()\n",
        "\n",
        "  # 5. set the optimizer (perform gradient descent)\n",
        "  optimizer.step() ## by default how the optimizer changes will acculumate through the loop so... we have to zero them above in step 3 for the next iteration of the loop\n",
        "\n",
        "  #Testing\n",
        "  model_0.eval() # turns off different setting in the model not needed for evaluation/testing (dropout/batch norm layers)\n",
        "  with torch.inference_mode():## turns off grad tracking and a couple more things behind the scenes\n",
        "    #1. do the forward pass\n",
        "    test_pred = model_0(X_test)\n",
        "\n",
        "    #2 . calculate loss\n",
        "    test_loss = loss_fn(test_pred, y_test)\n",
        "\n",
        "  if epoch % 10 == 0:\n",
        "   print(f'Epoch:{epoch} | Loss:{loss} | Test loss: {test_loss}')\n",
        "   print(model_0.state_dict())"
      ],
      "metadata": {
        "colab": {
          "base_uri": "https://localhost:8080/"
        },
        "id": "YyIECc3r17w6",
        "outputId": "00900eb9-f0ff-4805-86b3-8df178e08958"
      },
      "execution_count": 57,
      "outputs": [
        {
          "output_type": "stream",
          "name": "stdout",
          "text": [
            "Epoch:0 | Loss:0.0025885067880153656 | Test loss: 0.008447891101241112\n",
            "OrderedDict([('weights', tensor([0.6990])), ('bias', tensor([0.3093]))])\n",
            "Epoch:10 | Loss:0.0025885067880153656 | Test loss: 0.008447891101241112\n",
            "OrderedDict([('weights', tensor([0.6990])), ('bias', tensor([0.3093]))])\n",
            "Epoch:20 | Loss:0.0025885067880153656 | Test loss: 0.008447891101241112\n",
            "OrderedDict([('weights', tensor([0.6990])), ('bias', tensor([0.3093]))])\n",
            "Epoch:30 | Loss:0.0025885067880153656 | Test loss: 0.008447891101241112\n",
            "OrderedDict([('weights', tensor([0.6990])), ('bias', tensor([0.3093]))])\n",
            "Epoch:40 | Loss:0.0025885067880153656 | Test loss: 0.008447891101241112\n",
            "OrderedDict([('weights', tensor([0.6990])), ('bias', tensor([0.3093]))])\n",
            "Epoch:50 | Loss:0.0025885067880153656 | Test loss: 0.008447891101241112\n",
            "OrderedDict([('weights', tensor([0.6990])), ('bias', tensor([0.3093]))])\n",
            "Epoch:60 | Loss:0.0025885067880153656 | Test loss: 0.008447891101241112\n",
            "OrderedDict([('weights', tensor([0.6990])), ('bias', tensor([0.3093]))])\n",
            "Epoch:70 | Loss:0.0025885067880153656 | Test loss: 0.008447891101241112\n",
            "OrderedDict([('weights', tensor([0.6990])), ('bias', tensor([0.3093]))])\n",
            "Epoch:80 | Loss:0.0025885067880153656 | Test loss: 0.008447891101241112\n",
            "OrderedDict([('weights', tensor([0.6990])), ('bias', tensor([0.3093]))])\n",
            "Epoch:90 | Loss:0.0025885067880153656 | Test loss: 0.008447891101241112\n",
            "OrderedDict([('weights', tensor([0.6990])), ('bias', tensor([0.3093]))])\n"
          ]
        }
      ]
    },
    {
      "cell_type": "code",
      "source": [
        "weight, bias"
      ],
      "metadata": {
        "colab": {
          "base_uri": "https://localhost:8080/"
        },
        "id": "TJ09MO3U-64u",
        "outputId": "4c5bdfde-66d6-436d-892d-10611ec87f98"
      },
      "execution_count": 59,
      "outputs": [
        {
          "output_type": "execute_result",
          "data": {
            "text/plain": [
              "(0.7, 0.3)"
            ]
          },
          "metadata": {},
          "execution_count": 59
        }
      ]
    },
    {
      "cell_type": "code",
      "source": [
        "plot_predictions(predictions=test_pred)"
      ],
      "metadata": {
        "colab": {
          "base_uri": "https://localhost:8080/",
          "height": 600
        },
        "id": "zkjee3uM8hx9",
        "outputId": "45960d54-d848-452d-e5f0-d955b43c82c9"
      },
      "execution_count": 58,
      "outputs": [
        {
          "output_type": "display_data",
          "data": {
            "text/plain": [
              "<Figure size 1000x700 with 1 Axes>"
            ],
            "image/png": "[encoded data removed]"
          },
          "metadata": {}
        }
      ]
    }
  ]
}