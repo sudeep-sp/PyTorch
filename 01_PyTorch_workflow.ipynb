{
  "nbformat": 4,
  "nbformat_minor": 0,
  "metadata": {
    "colab": {
      "provenance": [],
      "authorship_tag": "ABX9TyNfRTnmjdjqpduNBP99il2L"
    },
    "kernelspec": {
      "name": "python3",
      "display_name": "Python 3"
    },
    "language_info": {
      "name": "python"
    }
  },
  "cells": [
    {
      "cell_type": "code",
      "execution_count": 138,
      "metadata": {
        "colab": {
          "base_uri": "https://localhost:8080/"
        },
        "id": "DSvVqorh7sQb",
        "outputId": "50294879-0be9-4b40-d94c-015452ef8be5"
      },
      "outputs": [
        {
          "output_type": "execute_result",
          "data": {
            "text/plain": [
              "{1: 'data (prepare and load)',\n",
              " 2: 'build model',\n",
              " 3: 'fitting the model to data (training)',\n",
              " 4: 'making predictions and evaluating a model (inference)',\n",
              " 5: 'saving and loading a model',\n",
              " 6: 'putting it all together'}"
            ]
          },
          "metadata": {},
          "execution_count": 138
        }
      ],
      "source": [
        "how_we_do_it = {\n",
        "     1: \"data (prepare and load)\",\n",
        "     2: \"build model\",\n",
        "     3: \"fitting the model to data (training)\",\n",
        "     4: \"making predictions and evaluating a model (inference)\",\n",
        "     5: \"saving and loading a model\",\n",
        "     6: \"putting it all together\"\n",
        "}\n",
        "how_we_do_it"
      ]
    },
    {
      "cell_type": "code",
      "source": [
        "import torch\n",
        "from torch import nn\n",
        "import matplotlib.pyplot as plt"
      ],
      "metadata": {
        "id": "nQwbld3k9d9-"
      },
      "execution_count": 139,
      "outputs": []
    },
    {
      "cell_type": "markdown",
      "source": [
        "## 1. Data (preparing and loading)\n",
        "\n",
        "data can be almost anything... in machine learning.\n",
        "\n",
        "* excel speadsheet\n",
        "* images of any kind\n",
        "* videos\n",
        "* Audio\n",
        "* DNA\n",
        "* text\n",
        "\n",
        "Machine learning is a game of 2 parts:\n",
        "1. Get data into a numberical representation.\n",
        "2. Build a model to learn pattens in that numerical represntation.\n",
        "\n",
        "To showcase this, lets create some known data using the linear regression formula.\n",
        "We'll use a linear regression formula to make a straight line with known parameters"
      ],
      "metadata": {
        "id": "Et9alGuL-Xoa"
      }
    },
    {
      "cell_type": "code",
      "source": [
        "import torch\n",
        "from torch import nn\n",
        "import matplotlib.pyplot as plt\n",
        "#create known parameters\n",
        "\n",
        "weight = 0.7\n",
        "bias =0.3\n",
        "\n",
        "#create\n",
        "start = 0\n",
        "end = 1\n",
        "step = 0.02\n",
        "X = torch.arange(start,end, step).unsqueeze(dim=1)\n",
        "y = weight * X + bias\n",
        "\n",
        "X[:10], y[:10]"
      ],
      "metadata": {
        "colab": {
          "base_uri": "https://localhost:8080/"
        },
        "id": "O64Yo_2d-006",
        "outputId": "3df4969f-2c2b-420a-b963-ad5da645cc35"
      },
      "execution_count": 140,
      "outputs": [
        {
          "output_type": "execute_result",
          "data": {
            "text/plain": [
              "(tensor([[0.0000],\n",
              "         [0.0200],\n",
              "         [0.0400],\n",
              "         [0.0600],\n",
              "         [0.0800],\n",
              "         [0.1000],\n",
              "         [0.1200],\n",
              "         [0.1400],\n",
              "         [0.1600],\n",
              "         [0.1800]]),\n",
              " tensor([[0.3000],\n",
              "         [0.3140],\n",
              "         [0.3280],\n",
              "         [0.3420],\n",
              "         [0.3560],\n",
              "         [0.3700],\n",
              "         [0.3840],\n",
              "         [0.3980],\n",
              "         [0.4120],\n",
              "         [0.4260]]))"
            ]
          },
          "metadata": {},
          "execution_count": 140
        }
      ]
    },
    {
      "cell_type": "code",
      "source": [
        "len(X), len(y)"
      ],
      "metadata": {
        "colab": {
          "base_uri": "https://localhost:8080/"
        },
        "id": "naULbCmpB1tj",
        "outputId": "93ad5767-7f71-4ab0-e644-ba7d9625a9da"
      },
      "execution_count": 141,
      "outputs": [
        {
          "output_type": "execute_result",
          "data": {
            "text/plain": [
              "(50, 50)"
            ]
          },
          "metadata": {},
          "execution_count": 141
        }
      ]
    },
    {
      "cell_type": "markdown",
      "source": [
        "### splitting data into training and testing sets (one of the most important concepts in ML in general )\n",
        "\n",
        "Lets create a training and test set with our data."
      ],
      "metadata": {
        "id": "SQAysymmCM12"
      }
    },
    {
      "cell_type": "code",
      "source": [
        "#create a train/test split\n",
        "train_split = int(0.8 * len(X)) #80% of data used for training set, 20% for testing\n",
        "X_train, y_train = X[:train_split], y[:train_split]\n",
        "\n",
        "X_test, y_test = X[train_split:], y[train_split:]\n",
        "\n",
        "len(X_train), len(y_train), len(X_test), len(y_test)"
      ],
      "metadata": {
        "colab": {
          "base_uri": "https://localhost:8080/"
        },
        "id": "Gmw2XEK7DGPv",
        "outputId": "45572be4-2117-49e9-e050-4d376f5f8aa3"
      },
      "execution_count": 142,
      "outputs": [
        {
          "output_type": "execute_result",
          "data": {
            "text/plain": [
              "(40, 40, 10, 10)"
            ]
          },
          "metadata": {},
          "execution_count": 142
        }
      ]
    },
    {
      "cell_type": "markdown",
      "source": [
        "### Visualization"
      ],
      "metadata": {
        "id": "9UJrqB8NExep"
      }
    },
    {
      "cell_type": "code",
      "source": [
        "def plot_predictions(train_data=X_train,\n",
        "                    train_labels=y_train,\n",
        "                    test_data=X_test,\n",
        "                    test_labels=y_test,\n",
        "                    predictions=None):\n",
        "  \"\"\"\n",
        "  Plots training data, test data and compares predictions.\n",
        "  \"\"\"\n",
        "  plt.figure(figsize=(10,7))\n",
        "\n",
        "  #plot training data in blue\n",
        "  plt.scatter(train_data, train_labels, c=\"b\", s=4, label=\"training data\")\n",
        "\n",
        "  #plot test data in green\n",
        "  plt.scatter(test_data, test_labels, c=\"g\", s=4, label=\"testing data\")\n",
        "\n",
        "  #Are there predictions?\n",
        "  if predictions is not None:\n",
        "    #plot predictions in red (predictions in green color)\n",
        "    plt.scatter(test_data, predictions, c=\"r\", s=4, label=\"predictions\")\n",
        "\n",
        "  #show the legend\n",
        "  plt.legend(prop={\"size\":14})"
      ],
      "metadata": {
        "id": "teSyyTRgD8zp"
      },
      "execution_count": 143,
      "outputs": []
    },
    {
      "cell_type": "code",
      "source": [
        "plot_predictions()"
      ],
      "metadata": {
        "colab": {
          "base_uri": "https://localhost:8080/",
          "height": 620
        },
        "id": "u67BG2dLFqtg",
        "outputId": "5f0a5c07-a139-4c24-e38a-5bc450533e6b"
      },
      "execution_count": 144,
      "outputs": [
        {
          "output_type": "display_data",
          "data": {
            "text/plain": [
              "<Figure size 1000x700 with 1 Axes>"
            ],
            "image/png": "[encoded data removed]"
          },
          "metadata": {}
        }
      ]
    },
    {
      "cell_type": "markdown",
      "source": [
        "# Building models\n",
        "\n",
        "what our model does:\n",
        "* Start with random values (weight and bias)\n",
        "* Look at training data and adjust the random values to better represent (or get closer to) the ideal values (the weight and bias values we used to create the data)\n",
        "\n",
        "1. Gradient descent\n",
        "2. Backpropagation\n"
      ],
      "metadata": {
        "id": "5-3OrQBgGP-Z"
      }
    },
    {
      "cell_type": "code",
      "source": [
        "from torch import nn\n",
        "\n",
        "#create linear regression model class\n",
        "\n",
        "class LinearRegressionModel(nn.Module): # <- almost everything in Pytorch inherhits from nn.module\n",
        "  def __init__(self):\n",
        "    super().__init__()\n",
        "    self.weights = nn.Parameter(torch.randn(1, # <- start with a random weight and try to adjust it to the ideal weight\n",
        "                                            requires_grad = True,\n",
        "                                            dtype = torch.float\n",
        "                                            ))\n",
        "    self.bias = nn.Parameter(torch.randn(1,\n",
        "                                          requires_grad = True,\n",
        "                                          dtype = torch.float\n",
        "                                          ))\n",
        "  # forward method to define the computation in the model\n",
        "  def forward(self, x: torch.Tensor) -> torch.tensor: # <- 'x' is the input data\n",
        "     return self.weights * x + self.bias # this is the linear regression formula\n"
      ],
      "metadata": {
        "id": "ZYlumk0-GVsZ"
      },
      "execution_count": 145,
      "outputs": []
    },
    {
      "cell_type": "markdown",
      "source": [
        "### PyTorch model building essentials\n",
        "\n",
        "* torch.nn - contains all of the buildings for computational graghs (a neural network can be considered a computational graph).\n",
        "* torch.nn.parameter - what parameters should our model try and learn, often a pytorch layer from torch.nn will set these for us.\n",
        "* torch.nn.Model - The Base class for all NN modules, if you should overwrite forward().\n",
        "* torch.optim - this where the optimizers in Pytorch live, they will help with gradent descent.\n",
        "* def forward() - All nn.model subclasses require you to overwrite forward(), this method defines what happens in the forward computations.\n",
        "\n",
        "* torch.utils.data.Dataset - Represents a map between key(label) and sample (features) pairs of your data. Such as images and thier associated labels.\n",
        "\n",
        "* torch.utils.data.DataLoader - Creates a Python iterable over a torch Dataset(allows you to iterate ober your data)."
      ],
      "metadata": {
        "id": "ydIBswQ0w8ts"
      }
    },
    {
      "cell_type": "markdown",
      "source": [
        "### checking the contents of our Pytorch model\n",
        "\n",
        "now we created a model , we see whats inside it...\n",
        "\n",
        "so we can check our model parameter or whats inside our model using `.Parameters()`"
      ],
      "metadata": {
        "id": "ByNK7lgrz3PU"
      }
    },
    {
      "cell_type": "code",
      "source": [
        "#create a random seed\n",
        "\n",
        "torch.manual_seed(42)\n",
        "\n",
        "#create an instance of model(this is a subclass of nn.Module)\n",
        "model_0 = LinearRegressionModel()\n",
        "\n",
        "list(model_0.parameters())"
      ],
      "metadata": {
        "colab": {
          "base_uri": "https://localhost:8080/"
        },
        "id": "kYApJMc8yjLA",
        "outputId": "6926ef5e-209a-416f-8114-0fc272581947"
      },
      "execution_count": 146,
      "outputs": [
        {
          "output_type": "execute_result",
          "data": {
            "text/plain": [
              "[Parameter containing:\n",
              " tensor([0.3367], requires_grad=True),\n",
              " Parameter containing:\n",
              " tensor([0.1288], requires_grad=True)]"
            ]
          },
          "metadata": {},
          "execution_count": 146
        }
      ]
    },
    {
      "cell_type": "code",
      "source": [
        "#List named parameters\n",
        "model_0.state_dict()"
      ],
      "metadata": {
        "colab": {
          "base_uri": "https://localhost:8080/"
        },
        "id": "LXZMZtqo1mTv",
        "outputId": "6b88dd1b-ad6d-47c6-b515-b6342b0a1a20"
      },
      "execution_count": 147,
      "outputs": [
        {
          "output_type": "execute_result",
          "data": {
            "text/plain": [
              "OrderedDict([('weights', tensor([0.3367])), ('bias', tensor([0.1288]))])"
            ]
          },
          "metadata": {},
          "execution_count": 147
        }
      ]
    },
    {
      "cell_type": "code",
      "source": [
        "weight, bias"
      ],
      "metadata": {
        "colab": {
          "base_uri": "https://localhost:8080/"
        },
        "id": "wfKX4ntf10Bk",
        "outputId": "a3e14d94-640f-4d10-8859-1c4ab81d55b4"
      },
      "execution_count": 148,
      "outputs": [
        {
          "output_type": "execute_result",
          "data": {
            "text/plain": [
              "(0.7, 0.3)"
            ]
          },
          "metadata": {},
          "execution_count": 148
        }
      ]
    },
    {
      "cell_type": "markdown",
      "source": [
        "### Making prediction using `torch.inference_mode()`\n",
        " To check our models predictive power, how will it predicts `y_test` based on `X_test`.\n",
        "\n",
        " when we pass data through our model, its going to run it through the forward() metod"
      ],
      "metadata": {
        "id": "2mHBVLxL2zVf"
      }
    },
    {
      "cell_type": "code",
      "source": [
        "# make predictions with model\n",
        "with torch.inference_mode():\n",
        "  y_preds = model_0(X_test)\n",
        "\n",
        "# you can also do something similar with torch.no_grad().\n",
        "# with torch.no_grad():\n",
        "#   y_preds = model_0(X_test)\n",
        "\n",
        "y_preds"
      ],
      "metadata": {
        "colab": {
          "base_uri": "https://localhost:8080/"
        },
        "id": "9JYzL3i22Hfr",
        "outputId": "aacb9ace-3125-4a04-c8c0-369ec3547e93"
      },
      "execution_count": 149,
      "outputs": [
        {
          "output_type": "execute_result",
          "data": {
            "text/plain": [
              "tensor([[0.3982],\n",
              "        [0.4049],\n",
              "        [0.4116],\n",
              "        [0.4184],\n",
              "        [0.4251],\n",
              "        [0.4318],\n",
              "        [0.4386],\n",
              "        [0.4453],\n",
              "        [0.4520],\n",
              "        [0.4588]])"
            ]
          },
          "metadata": {},
          "execution_count": 149
        }
      ]
    },
    {
      "cell_type": "code",
      "source": [
        "plot_predictions(predictions=y_preds)"
      ],
      "metadata": {
        "colab": {
          "base_uri": "https://localhost:8080/",
          "height": 620
        },
        "id": "P3hBnkY04OFQ",
        "outputId": "5a6d384a-2aee-4b7b-dd6b-7be25bca2274"
      },
      "execution_count": 150,
      "outputs": [
        {
          "output_type": "display_data",
          "data": {
            "text/plain": [
              "<Figure size 1000x700 with 1 Axes>"
            ],
            "image/png": "[encoded data removed]"
          },
          "metadata": {}
        }
      ]
    },
    {
      "cell_type": "markdown",
      "source": [
        "## 3.Training model\n",
        "\n",
        "The Whole idea of training is for a model to move from some unknown parameters (these may be random) to some known parameters\n",
        "\n",
        "Or in other words from a poor representation of the data to a better representation of the data.\n",
        "\n",
        "One way to measure how poor or how wrong your models prediction are is to use a `loss function`.\n",
        "\n",
        "Things we need to train:\n",
        "\n",
        "* **Loss function**: https://pytorch.org/docs/stable/nn.html#loss-functions\n",
        "* **Opitimizer** https://pytorch.org/docs/stable/optim.html\n",
        "\n",
        "inside optimizer:\n",
        "* `params` - the model parameters you'd like to optimze.\n",
        "* `lr` - the learning rate is hyperparameter that defines how big/small the optimizer changes the parameters with each step\n",
        "\n",
        "And specifically for PyTorch, we need:\n",
        "* A training loop\n",
        "* A testing loop"
      ],
      "metadata": {
        "id": "iX2_olWEwZU_"
      }
    },
    {
      "cell_type": "code",
      "source": [
        "model_0.state_dict()"
      ],
      "metadata": {
        "id": "IvBZixW65nDu",
        "colab": {
          "base_uri": "https://localhost:8080/"
        },
        "outputId": "a8de4e21-b62b-4733-96c9-d8765d343791"
      },
      "execution_count": 151,
      "outputs": [
        {
          "output_type": "execute_result",
          "data": {
            "text/plain": [
              "OrderedDict([('weights', tensor([0.3367])), ('bias', tensor([0.1288]))])"
            ]
          },
          "metadata": {},
          "execution_count": 151
        }
      ]
    },
    {
      "cell_type": "code",
      "source": [
        "#setup a loss function\n",
        "loss_fn = nn.L1Loss()\n",
        "\n",
        "#setup an optimizer (stochastic Gradient descent)\n",
        "optimizer = torch.optim.SGD(params = model_0.parameters(),lr = 0.01) #lr is learning rate : its hyperparameter"
      ],
      "metadata": {
        "id": "Elg7MtkVy__C"
      },
      "execution_count": 152,
      "outputs": []
    },
    {
      "cell_type": "markdown",
      "source": [
        "# Building a training loop (and a testing loop) in PyTorch.\n",
        "\n",
        "A couple of things we need in a training loop:\n",
        "  0. loop through the data and do ...\n",
        "  1. forward pass\n",
        "  2. calculate the loss\n",
        "  3. optimizer zero grad\n",
        "  4. Loss backword\n",
        "  5. optimizer step"
      ],
      "metadata": {
        "id": "Gm82DZP91Zns"
      }
    },
    {
      "cell_type": "code",
      "source": [
        "torch.manual_seed(42)\n",
        "#An epoch is one loop through the data... (this is a hyperparameter)\n",
        "epochs = 200\n",
        "\n",
        "## tracking diffrent values\n",
        "epoch_count = [ ]\n",
        "loss_values = [ ]\n",
        "test_loss_values = [ ]\n",
        "\n",
        "#0. Loop through the data\n",
        "for epoch in range(epochs):\n",
        "  #Set the model to training mode\n",
        "  model_0.train() # train mode in pytorch sets all parameters that require gradients to require gardients\n",
        "\n",
        "  # 1. Forward pass\n",
        "  y_pred = model_0(X_train)\n",
        "\n",
        "  #2. calculate Loss\n",
        "  loss = loss_fn(y_pred, y_train)\n",
        "\n",
        "\n",
        "  #3. optimizer zero grad\n",
        "  optimizer.zero_grad()\n",
        "\n",
        "  # 4. perform backpropagation on the loss with respect to the parameter of the model\n",
        "  loss.backward()\n",
        "\n",
        "  # 5. set the optimizer (perform gradient descent)\n",
        "  optimizer.step() ## by default how the optimizer changes will acculumate through the loop so... we have to zero them above in step 3 for the next iteration of the loop\n",
        "\n",
        "  #Testing\n",
        "  model_0.eval() # turns off different setting in the model not needed for evaluation/testing (dropout/batch norm layers)\n",
        "  with torch.inference_mode():## turns off grad tracking and a couple more things behind the scenes\n",
        "    #1. do the forward pass\n",
        "    test_pred = model_0(X_test)\n",
        "\n",
        "    #2 . calculate loss\n",
        "    test_loss = loss_fn(test_pred, y_test)\n",
        "\n",
        "  if epoch % 10 == 0:\n",
        "    epoch_count.append(epoch)\n",
        "    loss_values.append(loss)\n",
        "    test_loss_values.append(test_loss)\n",
        "    print(f'Epoch:{epoch} | Loss:{loss} | Test loss: {test_loss}')\n",
        "    print(model_0.state_dict())"
      ],
      "metadata": {
        "colab": {
          "base_uri": "https://localhost:8080/"
        },
        "id": "YyIECc3r17w6",
        "outputId": "3b8212cd-5ec8-4d90-acd5-84e8c163b496"
      },
      "execution_count": 153,
      "outputs": [
        {
          "output_type": "stream",
          "name": "stdout",
          "text": [
            "Epoch:0 | Loss:0.31288138031959534 | Test loss: 0.48106518387794495\n",
            "OrderedDict([('weights', tensor([0.3406])), ('bias', tensor([0.1388]))])\n",
            "Epoch:10 | Loss:0.1976713240146637 | Test loss: 0.3463551998138428\n",
            "OrderedDict([('weights', tensor([0.3796])), ('bias', tensor([0.2388]))])\n",
            "Epoch:20 | Loss:0.08908725529909134 | Test loss: 0.21729660034179688\n",
            "OrderedDict([('weights', tensor([0.4184])), ('bias', tensor([0.3333]))])\n",
            "Epoch:30 | Loss:0.053148526698350906 | Test loss: 0.14464017748832703\n",
            "OrderedDict([('weights', tensor([0.4512])), ('bias', tensor([0.3768]))])\n",
            "Epoch:40 | Loss:0.04543796554207802 | Test loss: 0.11360953003168106\n",
            "OrderedDict([('weights', tensor([0.4748])), ('bias', tensor([0.3868]))])\n",
            "Epoch:50 | Loss:0.04167863354086876 | Test loss: 0.09919948130846024\n",
            "OrderedDict([('weights', tensor([0.4938])), ('bias', tensor([0.3843]))])\n",
            "Epoch:60 | Loss:0.03818932920694351 | Test loss: 0.08886633068323135\n",
            "OrderedDict([('weights', tensor([0.5116])), ('bias', tensor([0.3788]))])\n",
            "Epoch:70 | Loss:0.03476089984178543 | Test loss: 0.0805937647819519\n",
            "OrderedDict([('weights', tensor([0.5288])), ('bias', tensor([0.3718]))])\n",
            "Epoch:80 | Loss:0.03132382780313492 | Test loss: 0.07232122868299484\n",
            "OrderedDict([('weights', tensor([0.5459])), ('bias', tensor([0.3648]))])\n",
            "Epoch:90 | Loss:0.02788739837706089 | Test loss: 0.06473556160926819\n",
            "OrderedDict([('weights', tensor([0.5629])), ('bias', tensor([0.3573]))])\n",
            "Epoch:100 | Loss:0.024458957836031914 | Test loss: 0.05646304413676262\n",
            "OrderedDict([('weights', tensor([0.5800])), ('bias', tensor([0.3503]))])\n",
            "Epoch:110 | Loss:0.021020207554101944 | Test loss: 0.04819049686193466\n",
            "OrderedDict([('weights', tensor([0.5972])), ('bias', tensor([0.3433]))])\n",
            "Epoch:120 | Loss:0.01758546568453312 | Test loss: 0.04060482233762741\n",
            "OrderedDict([('weights', tensor([0.6141])), ('bias', tensor([0.3358]))])\n",
            "Epoch:130 | Loss:0.014155393466353416 | Test loss: 0.03233227878808975\n",
            "OrderedDict([('weights', tensor([0.6313])), ('bias', tensor([0.3288]))])\n",
            "Epoch:140 | Loss:0.010716589167714119 | Test loss: 0.024059748277068138\n",
            "OrderedDict([('weights', tensor([0.6485])), ('bias', tensor([0.3218]))])\n",
            "Epoch:150 | Loss:0.0072835334576666355 | Test loss: 0.016474086791276932\n",
            "OrderedDict([('weights', tensor([0.6654])), ('bias', tensor([0.3143]))])\n",
            "Epoch:160 | Loss:0.0038517764769494534 | Test loss: 0.008201557211577892\n",
            "OrderedDict([('weights', tensor([0.6826])), ('bias', tensor([0.3073]))])\n",
            "Epoch:170 | Loss:0.008932482451200485 | Test loss: 0.005023092031478882\n",
            "OrderedDict([('weights', tensor([0.6951])), ('bias', tensor([0.2993]))])\n",
            "Epoch:180 | Loss:0.008932482451200485 | Test loss: 0.005023092031478882\n",
            "OrderedDict([('weights', tensor([0.6951])), ('bias', tensor([0.2993]))])\n",
            "Epoch:190 | Loss:0.008932482451200485 | Test loss: 0.005023092031478882\n",
            "OrderedDict([('weights', tensor([0.6951])), ('bias', tensor([0.2993]))])\n"
          ]
        }
      ]
    },
    {
      "cell_type": "code",
      "source": [
        "import numpy as np\n",
        "import matplotlib.pyplot as plt\n",
        "\n",
        "# Assuming epoch_count, loss_values, and test_loss_values are available\n",
        "# Ensure loss_values and test_loss_values are in numpy format\n",
        "train_loss_values = torch.tensor(loss_values).detach().cpu().numpy()  # Convert torch tensor to numpy\n",
        "\n",
        "# Plotting the loss curves\n",
        "plt.plot(epoch_count, train_loss_values, label='Train loss')\n",
        "plt.plot(epoch_count, test_loss_values, label='Test loss')\n",
        "\n",
        "# Adding title and labels\n",
        "plt.title('Training and Test Loss Curves')\n",
        "plt.ylabel('Loss')\n",
        "plt.xlabel('Epochs')\n",
        "plt.legend()\n",
        "\n",
        "# Show the plot\n",
        "plt.show()\n"
      ],
      "metadata": {
        "colab": {
          "base_uri": "https://localhost:8080/",
          "height": 493
        },
        "id": "RpOeWLYMC-mY",
        "outputId": "82ea8666-d9e8-47cd-c6b9-5602f4b7155d"
      },
      "execution_count": 154,
      "outputs": [
        {
          "output_type": "display_data",
          "data": {
            "text/plain": [
              "<Figure size 640x480 with 1 Axes>"
            ],
            "image/png": "[encoded data removed]"
          },
          "metadata": {}
        }
      ]
    },
    {
      "cell_type": "code",
      "source": [
        "weight, bias"
      ],
      "metadata": {
        "colab": {
          "base_uri": "https://localhost:8080/"
        },
        "id": "TJ09MO3U-64u",
        "outputId": "f075efdf-8487-4690-aa53-b0fea3768a05"
      },
      "execution_count": 155,
      "outputs": [
        {
          "output_type": "execute_result",
          "data": {
            "text/plain": [
              "(0.7, 0.3)"
            ]
          },
          "metadata": {},
          "execution_count": 155
        }
      ]
    },
    {
      "cell_type": "code",
      "source": [
        "plot_predictions(predictions=test_pred)"
      ],
      "metadata": {
        "colab": {
          "base_uri": "https://localhost:8080/",
          "height": 620
        },
        "id": "zkjee3uM8hx9",
        "outputId": "4c690064-732b-473a-da32-8476ca8b0673"
      },
      "execution_count": 156,
      "outputs": [
        {
          "output_type": "display_data",
          "data": {
            "text/plain": [
              "<Figure size 1000x700 with 1 Axes>"
            ],
            "image/png": "[encoded data removed]"
          },
          "metadata": {}
        }
      ]
    },
    {
      "cell_type": "markdown",
      "source": [
        "# Saving a model in PyTorch\n",
        "\n",
        "There are three main methods you should about for saving and loading models in PyTorch.\n",
        "\n",
        "1. `torch.save()` - allows you save a python's pickle format\n",
        "2. `torch.load()` - allows you load a saved PyTorch object\n",
        "3. `torch.nn.Module.load_state_dict()` - this allows to load a model's saved state dictionary\n",
        "\n",
        "\n",
        "https://pytorch.org/tutorials/beginner/saving_loading_models.html"
      ],
      "metadata": {
        "id": "lodivj5DGTRH"
      }
    },
    {
      "cell_type": "code",
      "source": [],
      "metadata": {
        "id": "zH-mg1WiGaSj"
      },
      "execution_count": null,
      "outputs": []
    }
  ]
}